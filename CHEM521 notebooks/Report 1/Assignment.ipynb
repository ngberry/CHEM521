{
 "cells": [
  {
   "cell_type": "markdown",
   "metadata": {},
   "source": [
    "# Assignment - ML\n",
    "\n",
    "## Introduction\n",
    "\n",
    "In this assigment, you are asked to apply machine learning (ML) model to a chemical dataset. You should use similar approaches that uyou have seen in the previous jupyter notebooks.\n",
    "\n",
    "### The data\n",
    "\n",
    "The data is the same data you looked at for classification modelling. It contains information relating to Epidermal growth factor receptor (EGFR) kinase. The *csv* ha sthe following columns:\n",
    "\n",
    "* CHEMBL-ID\n",
    "* SMILES string of the corresponding compound\n",
    "* Measured affinity: pIC50\n",
    "\n",
    "### EGFR Kinase\n",
    "\n",
    "The Epidermal Growth Factor Receptor (EGFR) is a transmembrane protein/receptor present on the cell membrane (https://en.wikipedia.org/wiki/Epidermal_growth_factor_receptor). It is a member of the ErbB family of receptors. EGFR plays an important role in controlling normal cell growth, apoptosis and other cellular functions. It is activated by ligand binding to its extracellular domain, upon activation EGFR undergoes a transition from an inactive monomeric form to an active homodimers. The EGFR receptor is upregulated in various types of tumors or cancers, so an EGFR inhibition is a type of biological therapy that might stop cancer cells from growing.\n",
    "\n",
    "### The task\n",
    "\n",
    "Prepare the data for training and evaulate machine learning model to predict the pIC50 of the compounds based on the features supplied (and others if you would like to calculate additional descriptors as features).\n",
    "\n",
    "You will use scikit-learn to train and evaluate the following models:\n",
    "\n",
    "**Supervised learning**\n",
    "\n",
    "- Random Forest\n",
    "\n",
    "### What you have to do\n",
    "\n",
    "Complete the code cells below indictaed with \"# TO DO\" statements. The previous notebooks should be useful in these tasks.\n",
    "\n",
    "#### Steps\n",
    "\n",
    "1. Load the data\n",
    "2. Perform some EDA to gain initial understanding of the distribution of features and relationships between features, and with the target.\n",
    "3. Prepare the data \n",
    "4. Train the model\n",
    "5. Make predictions\n",
    "6. Evaluate performance\n",
    "7. Analyse the performance of the models. Draw conclusions about the chemical problem, e.g. from the feature importances."
   ]
  },
  {
   "cell_type": "markdown",
   "metadata": {},
   "source": [
    "### Load libraries"
   ]
  },
  {
   "cell_type": "code",
   "execution_count": 120,
   "metadata": {},
   "outputs": [],
   "source": [
    "# If you do not have scikit-learn installed, uncomment the following line\n",
    "# !conda install -y -c conda-forge scikit-learn\n",
    "#!conda install -y -c conda-forge numpy"
   ]
  },
  {
   "cell_type": "code",
   "execution_count": 121,
   "metadata": {},
   "outputs": [],
   "source": [
    "from random import choice\n",
    "import numpy as np\n",
    "import pandas as pd\n",
    "import seaborn as sns\n",
    "from matplotlib import pyplot as plt\n",
    "from sklearn import linear_model\n",
    "from sklearn.model_selection import train_test_split\n",
    "from sklearn.preprocessing import StandardScaler\n",
    "from sklearn.ensemble import RandomForestRegressor \n",
    "from sklearn.metrics import (root_mean_squared_error,\n",
    "                            mean_absolute_error,\n",
    "                            mean_squared_error,\n",
    "                            r2_score)\n",
    "from rdkit import Chem \n",
    "from rdkit.Chem import AllChem, rdFingerprintGenerator, Draw"
   ]
  },
  {
   "cell_type": "markdown",
   "metadata": {},
   "source": [
    "If you have issues with VSCode notebook cell outputs being truncated:\n",
    "\n",
    "- Go to Settings (via menubar or cmd-, on Mac)\n",
    "- Search for cell output settings: try @tag:notebookOutputLayout\n",
    "- Adjust settings, e.g. scrolling, number of lines to display"
   ]
  },
  {
   "cell_type": "markdown",
   "metadata": {},
   "source": [
    "## Load the data and perform exploratory analysis"
   ]
  },
  {
   "cell_type": "markdown",
   "metadata": {},
   "source": [
    "You can perform some initial exploratory analysis of the dataset using some of the methods you saw last week.\n",
    "\n",
    "In addition to looking for distribution and patterns in the data, look at what the columns actually contain. Some will include metadata about the source of the observation and its processing, which will not be relevant to the target variable."
   ]
  },
  {
   "cell_type": "code",
   "execution_count": null,
   "metadata": {},
   "outputs": [],
   "source": [
    "# TODO: \n",
    "# - Read the data into a DataFrame\n",
    "# - Check the data types\n",
    "# - Check for missing values\n",
    "# - Identify the target variable\n",
    "# - Identify any metadata\n",
    "# - Identify any descriptors\n",
    "# - Examine summary statistics of target variable and descriptors and make some short comments\n",
    "# - Identify any redundant columns"
   ]
  },
  {
   "cell_type": "markdown",
   "metadata": {},
   "source": [
    "#### Visualisations"
   ]
  },
  {
   "cell_type": "code",
   "execution_count": null,
   "metadata": {},
   "outputs": [],
   "source": [
    "# TODO:\n",
    "# - Create a dataframe with just the dependent and indpendent variables\n",
    "# - Visualise the data to look for distributions of features, check for outliers and make some short comments\n",
    "# - Visualise the data to look for correlations and make some short comments\n",
    "# - Visualise the data to look for relationships between features and target and make some short comments"
   ]
  },
  {
   "cell_type": "markdown",
   "metadata": {},
   "source": [
    "### Molecular Fingerprints\n",
    "\n",
    "Use the functions below to add ECFP to the dataframe"
   ]
  },
  {
   "cell_type": "code",
   "execution_count": 137,
   "metadata": {},
   "outputs": [],
   "source": [
    "def smiles_to_fp(smiles):\n",
    "    # convert smiles to RDKit mol object\n",
    "    mol = Chem.MolFromSmiles(smiles)\n",
    "    fpg = rdFingerprintGenerator.GetMorganGenerator(radius=2, fpSize=2048)\n",
    "    return np.array(fpg.GetFingerprint(mol))\n",
    "    "
   ]
  },
  {
   "cell_type": "markdown",
   "metadata": {},
   "source": [
    "Apply this function to the dataframe and look at first three molecules"
   ]
  },
  {
   "cell_type": "code",
   "execution_count": 138,
   "metadata": {},
   "outputs": [
    {
     "data": {
      "application/vnd.microsoft.datawrangler.viewer.v0+json": {
       "columns": [
        {
         "name": "index",
         "rawType": "int64",
         "type": "integer"
        },
        {
         "name": "molecule_chembl_id",
         "rawType": "object",
         "type": "string"
        },
        {
         "name": "IC50",
         "rawType": "float64",
         "type": "float"
        },
        {
         "name": "units",
         "rawType": "object",
         "type": "string"
        },
        {
         "name": "smiles",
         "rawType": "object",
         "type": "string"
        },
        {
         "name": "pIC50",
         "rawType": "float64",
         "type": "float"
        },
        {
         "name": "molecular_weight",
         "rawType": "float64",
         "type": "float"
        },
        {
         "name": "n_hba",
         "rawType": "int64",
         "type": "integer"
        },
        {
         "name": "n_hbd",
         "rawType": "int64",
         "type": "integer"
        },
        {
         "name": "logp",
         "rawType": "float64",
         "type": "float"
        },
        {
         "name": "ro5_fulfilled",
         "rawType": "bool",
         "type": "boolean"
        },
        {
         "name": "fp",
         "rawType": "object",
         "type": "unknown"
        }
       ],
       "ref": "dfaa6cca-4657-4578-a9c5-95788564d3c8",
       "rows": [
        [
         "0",
         "CHEMBL63786",
         "0.003",
         "nM",
         "Brc1cccc(Nc2ncnc3cc4ccccc4cc23)c1",
         "11.522878745280336",
         "349.021459484",
         "3",
         "1",
         "5.289100000000002",
         "True",
         "[0 0 0 ... 0 0 0]"
        ],
        [
         "1",
         "CHEMBL35820",
         "0.006",
         "nM",
         "CCOc1cc2ncnc(Nc3cccc(Br)c3)c2cc1OCC",
         "11.221848749616356",
         "387.058238916",
         "5",
         "1",
         "4.933300000000004",
         "True",
         "[0 0 0 ... 0 0 0]"
        ],
        [
         "2",
         "CHEMBL53711",
         "0.006",
         "nM",
         "CN(C)c1cc2c(Nc3cccc(Br)c3)ncnc2cn1",
         "11.221848749616356",
         "343.04325754800004",
         "5",
         "1",
         "3.596900000000001",
         "True",
         "[0 0 0 ... 0 0 0]"
        ]
       ],
       "shape": {
        "columns": 11,
        "rows": 3
       }
      },
      "text/html": [
       "<div>\n",
       "<style scoped>\n",
       "    .dataframe tbody tr th:only-of-type {\n",
       "        vertical-align: middle;\n",
       "    }\n",
       "\n",
       "    .dataframe tbody tr th {\n",
       "        vertical-align: top;\n",
       "    }\n",
       "\n",
       "    .dataframe thead th {\n",
       "        text-align: right;\n",
       "    }\n",
       "</style>\n",
       "<table border=\"1\" class=\"dataframe\">\n",
       "  <thead>\n",
       "    <tr style=\"text-align: right;\">\n",
       "      <th></th>\n",
       "      <th>molecule_chembl_id</th>\n",
       "      <th>IC50</th>\n",
       "      <th>units</th>\n",
       "      <th>smiles</th>\n",
       "      <th>pIC50</th>\n",
       "      <th>molecular_weight</th>\n",
       "      <th>n_hba</th>\n",
       "      <th>n_hbd</th>\n",
       "      <th>logp</th>\n",
       "      <th>ro5_fulfilled</th>\n",
       "      <th>fp</th>\n",
       "    </tr>\n",
       "  </thead>\n",
       "  <tbody>\n",
       "    <tr>\n",
       "      <th>0</th>\n",
       "      <td>CHEMBL63786</td>\n",
       "      <td>0.003</td>\n",
       "      <td>nM</td>\n",
       "      <td>Brc1cccc(Nc2ncnc3cc4ccccc4cc23)c1</td>\n",
       "      <td>11.522879</td>\n",
       "      <td>349.021459</td>\n",
       "      <td>3</td>\n",
       "      <td>1</td>\n",
       "      <td>5.2891</td>\n",
       "      <td>True</td>\n",
       "      <td>[0, 0, 0, 0, 0, 0, 0, 0, 0, 0, 0, 0, 0, 0, 0, ...</td>\n",
       "    </tr>\n",
       "    <tr>\n",
       "      <th>1</th>\n",
       "      <td>CHEMBL35820</td>\n",
       "      <td>0.006</td>\n",
       "      <td>nM</td>\n",
       "      <td>CCOc1cc2ncnc(Nc3cccc(Br)c3)c2cc1OCC</td>\n",
       "      <td>11.221849</td>\n",
       "      <td>387.058239</td>\n",
       "      <td>5</td>\n",
       "      <td>1</td>\n",
       "      <td>4.9333</td>\n",
       "      <td>True</td>\n",
       "      <td>[0, 0, 0, 0, 0, 0, 0, 0, 0, 0, 0, 0, 0, 0, 0, ...</td>\n",
       "    </tr>\n",
       "    <tr>\n",
       "      <th>2</th>\n",
       "      <td>CHEMBL53711</td>\n",
       "      <td>0.006</td>\n",
       "      <td>nM</td>\n",
       "      <td>CN(C)c1cc2c(Nc3cccc(Br)c3)ncnc2cn1</td>\n",
       "      <td>11.221849</td>\n",
       "      <td>343.043258</td>\n",
       "      <td>5</td>\n",
       "      <td>1</td>\n",
       "      <td>3.5969</td>\n",
       "      <td>True</td>\n",
       "      <td>[0, 0, 0, 0, 0, 0, 0, 0, 0, 0, 0, 0, 0, 0, 0, ...</td>\n",
       "    </tr>\n",
       "  </tbody>\n",
       "</table>\n",
       "</div>"
      ],
      "text/plain": [
       "  molecule_chembl_id   IC50 units                               smiles  \\\n",
       "0        CHEMBL63786  0.003    nM    Brc1cccc(Nc2ncnc3cc4ccccc4cc23)c1   \n",
       "1        CHEMBL35820  0.006    nM  CCOc1cc2ncnc(Nc3cccc(Br)c3)c2cc1OCC   \n",
       "2        CHEMBL53711  0.006    nM   CN(C)c1cc2c(Nc3cccc(Br)c3)ncnc2cn1   \n",
       "\n",
       "       pIC50  molecular_weight  n_hba  n_hbd    logp  ro5_fulfilled  \\\n",
       "0  11.522879        349.021459      3      1  5.2891           True   \n",
       "1  11.221849        387.058239      5      1  4.9333           True   \n",
       "2  11.221849        343.043258      5      1  3.5969           True   \n",
       "\n",
       "                                                  fp  \n",
       "0  [0, 0, 0, 0, 0, 0, 0, 0, 0, 0, 0, 0, 0, 0, 0, ...  \n",
       "1  [0, 0, 0, 0, 0, 0, 0, 0, 0, 0, 0, 0, 0, 0, 0, ...  \n",
       "2  [0, 0, 0, 0, 0, 0, 0, 0, 0, 0, 0, 0, 0, 0, 0, ...  "
      ]
     },
     "execution_count": 138,
     "metadata": {},
     "output_type": "execute_result"
    }
   ],
   "source": [
    "chembl_df[\"fp\"] = chembl_df[\"smiles\"].apply(smiles_to_fp)\n",
    "chembl_df.head(3)"
   ]
  },
  {
   "cell_type": "markdown",
   "metadata": {},
   "source": [
    "#### Separate features and target\n",
    "\n",
    "You can now separate your data into the features (the predictor variables) and target (the variable you want to predict). Run code for X_full  below."
   ]
  },
  {
   "cell_type": "code",
   "execution_count": null,
   "metadata": {},
   "outputs": [],
   "source": [
    "df1=num_chembl_df[[\"logp\",\"molecular_weight\",\"n_hba\",\"n_hbd\"]]\n",
    "df2=pd.DataFrame(chembl_df.fp.tolist())\n",
    "list = (df1).columns.to_list() + [str(element) for element in pd.DataFrame(df2).columns.to_list()]\n",
    "X_full=pd.DataFrame(np.hstack([df1,df2]),columns=list)\n"
   ]
  },
  {
   "cell_type": "code",
   "execution_count": 141,
   "metadata": {},
   "outputs": [],
   "source": [
    "# TODO:\n",
    "# - Read the target column into a separate variable y_full"
   ]
  },
  {
   "cell_type": "markdown",
   "metadata": {},
   "source": [
    "#### Create the training and test sets\n",
    "\n",
    "Run [`train_test_split`](https://scikit-learn.org/stable/modules/generated/sklearn.model_selection.train_test_split.html) to create separate training and test sets, with 20% of the samples in the test set."
   ]
  },
  {
   "cell_type": "code",
   "execution_count": null,
   "metadata": {},
   "outputs": [],
   "source": [
    "# TODO \n",
    "# Split the data into training (80%) and testing (20%) sets using random_state=42\n",
    "# Check the size of the resulting datasets\n"
   ]
  },
  {
   "cell_type": "markdown",
   "metadata": {},
   "source": [
    "#### Feature Engineering"
   ]
  },
  {
   "cell_type": "code",
   "execution_count": null,
   "metadata": {},
   "outputs": [],
   "source": [
    "# TO DO Feature engineering: Scale the variables using StandardScaler()\n",
    "# TO DO Calculate the mean and standard deviation of the training and test sets"
   ]
  },
  {
   "cell_type": "markdown",
   "metadata": {},
   "source": [
    "#### Building a Random Forets Model"
   ]
  },
  {
   "cell_type": "code",
   "execution_count": null,
   "metadata": {},
   "outputs": [],
   "source": [
    "# TODO \n",
    "# Build a random forets model\n",
    "# Make predictions on the test set\n",
    "# Calculate MSE and r2 for the training and test sets"
   ]
  },
  {
   "cell_type": "markdown",
   "metadata": {},
   "source": [
    "#### Plot the training and test sets"
   ]
  },
  {
   "cell_type": "code",
   "execution_count": null,
   "metadata": {},
   "outputs": [],
   "source": [
    "# TO DO Plot the experimental value against the predicted values for training and test sets using differnt colours for the two sets "
   ]
  },
  {
   "cell_type": "markdown",
   "metadata": {},
   "source": [
    "### Feature Importance"
   ]
  },
  {
   "cell_type": "code",
   "execution_count": null,
   "metadata": {},
   "outputs": [],
   "source": [
    "# TO DO Look at feature importance using Gini importance and make some comments"
   ]
  },
  {
   "cell_type": "code",
   "execution_count": null,
   "metadata": {},
   "outputs": [],
   "source": [
    "# TO DO Create a bar plot for feature importance"
   ]
  }
 ],
 "metadata": {
  "kernelspec": {
   "display_name": "Python 3",
   "language": "python",
   "name": "python3"
  },
  "language_info": {
   "codemirror_mode": {
    "name": "ipython",
    "version": 3
   },
   "file_extension": ".py",
   "mimetype": "text/x-python",
   "name": "python",
   "nbconvert_exporter": "python",
   "pygments_lexer": "ipython3",
   "version": "3.13.5"
  }
 },
 "nbformat": 4,
 "nbformat_minor": 2
}
